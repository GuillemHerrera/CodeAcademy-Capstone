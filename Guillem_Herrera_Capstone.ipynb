{
 "cells": [
  {
   "cell_type": "code",
   "execution_count": 1,
   "metadata": {},
   "outputs": [],
   "source": [
    "import pandas as pd\n",
    "import numpy as np\n",
    "from matplotlib import pyplot as plt\n",
    "\n",
    "df = pd.read_csv('profiles.csv',encoding='utf-8')"
   ]
  },
  {
   "cell_type": "code",
   "execution_count": 2,
   "metadata": {},
   "outputs": [
    {
     "name": "stdout",
     "output_type": "stream",
     "text": [
      "['age', 'body_type', 'diet', 'drinks', 'drugs', 'education', 'essay0', 'essay1', 'essay2', 'essay3', 'essay4', 'essay5', 'essay6', 'essay7', 'essay8', 'essay9', 'ethnicity', 'height', 'income', 'job', 'last_online', 'location', 'offspring', 'orientation', 'pets', 'religion', 'sex', 'sign', 'smokes', 'speaks', 'status']\n"
     ]
    }
   ],
   "source": [
    "print(list(df.columns))"
   ]
  },
  {
   "cell_type": "markdown",
   "metadata": {},
   "source": [
    "### Visualitzation of income values for the dataset\n",
    "\n",
    "We can see that the the majority of rows (80%) doesn't have a valid value for this feature ('-1'). If we want to calculate the mean and median value we must extract this rows to make calculations. Also, cause valid rows is so low, we must not use this column for any regression or classification algorithm"
   ]
  },
  {
   "cell_type": "code",
   "execution_count": 9,
   "metadata": {},
   "outputs": [
    {
     "name": "stdout",
     "output_type": "stream",
     "text": [
      "-1          0.808094\n",
      " 20000      0.049244\n",
      " 100000     0.027041\n",
      " 80000      0.018533\n",
      " 30000      0.017482\n",
      " 40000      0.016765\n",
      " 50000      0.016265\n",
      " 60000      0.012278\n",
      " 70000      0.011794\n",
      " 150000     0.010526\n",
      " 1000000    0.008691\n",
      " 250000     0.002486\n",
      " 500000     0.000801\n",
      "Name: income, dtype: float64\n"
     ]
    }
   ],
   "source": [
    "print(df.income.value_counts(normalize=True))"
   ]
  },
  {
   "cell_type": "code",
   "execution_count": 55,
   "metadata": {},
   "outputs": [
    {
     "name": "stdout",
     "output_type": "stream",
     "text": [
      "In rows with valid values of \"income\" column:\n",
      "Mean = 104394.993\n",
      "Median = 50000.0\n",
      "Nº of rows = 11504\n"
     ]
    },
    {
     "data": {
      "image/png": "[encoded data removed]",
      "text/plain": [
       "<matplotlib.figure.Figure at 0x7ff2db2ff208>"
      ]
     },
     "metadata": {},
     "output_type": "display_data"
    }
   ],
   "source": [
    "df_income=df['income'].loc[df['income']!= -1].copy()\n",
    "print('In rows with valid values of \"income\" column:')\n",
    "print('Mean = {:.3f}\\nMedian = {}\\nNº of rows = {}'.format(df_income.mean(),df_income.median(),df_income.shape[0]))\n",
    "\n",
    "plt.hist(df_income, bins=80)\n",
    "plt.xlabel(\"Income\")\n",
    "plt.ylabel(\"Frequency\")\n",
    "plt.show()"
   ]
  },
  {
   "cell_type": "markdown",
   "metadata": {},
   "source": [
    "### Convert categorical values to numerical\n",
    "\n",
    "Now, to make categorical columns usables to analisys, we must convert them to numerical values. We can use map function to achieve it in simple columns values: \n"
   ]
  },
  {
   "cell_type": "code",
   "execution_count": 6,
   "metadata": {},
   "outputs": [
    {
     "name": "stdout",
     "output_type": "stream",
     "text": [
      "2.0    41780\n",
      "1.0     5957\n",
      "3.0     5164\n",
      "0.0     3267\n",
      "4.0      471\n",
      "5.0      322\n",
      "Name: drinks_code, dtype: int64\n",
      "0.0    37724\n",
      "1.0     7732\n",
      "2.0      410\n",
      "Name: drugs_code, dtype: int64\n",
      "0.0    43896\n",
      "1.0     3787\n",
      "2.0     3040\n",
      "4.0     2231\n",
      "3.0     1480\n",
      "Name: smokes_code, dtype: int64\n",
      "0    35829\n",
      "1    24117\n",
      "Name: sex_code, dtype: int64\n"
     ]
    }
   ],
   "source": [
    "drink_mapping = {\"not at all\": 0, \"rarely\": 1, \"socially\": 2, \"often\": 3, \"very often\": 4, \"desperately\": 5}\n",
    "drugs_mapping = {\"never\": 0, \"sometimes\": 1, \"often\": 2}\n",
    "smokes_mapping = {\"no\": 0, \"sometimes\": 1, \"when drinking\": 2, \"trying to quit\": 3, \"yes\": 4}\n",
    "\n",
    "\n",
    "df[\"drinks_code\"] = df.drinks.map(drink_mapping)\n",
    "df[\"drugs_code\"] = df.drugs.map(drugs_mapping)\n",
    "df[\"smokes_code\"] = df.smokes.map(smokes_mapping)\n",
    "df['sex_code']=df['sex'].map({'m':0, 'f':1})\n",
    "\n",
    "print(df.drinks_code.value_counts())\n",
    "print(df.drugs_code.value_counts())\n",
    "print(df.smokes_code.value_counts())\n",
    "print(df.sex_code.value_counts())"
   ]
  },
  {
   "cell_type": "markdown",
   "metadata": {},
   "source": [
    "Or create some functions to classify more precisly other complex column values.\n",
    "Note we need to preprocess a little bit more 'offspring' column to be able to apply some string based functions:"
   ]
  },
  {
   "cell_type": "code",
   "execution_count": 7,
   "metadata": {},
   "outputs": [
    {
     "name": "stdout",
     "output_type": "stream",
     "text": [
      "0    45653\n",
      "1    14293\n",
      "Name: has_pets, dtype: int64\n",
      "0    55027\n",
      "1     4919\n",
      "Name: has_kids, dtype: int64\n",
      "1    40170\n",
      "0    19776\n",
      "Name: want_kids, dtype: int64\n"
     ]
    }
   ],
   "source": [
    "import html\n",
    "df['offspring']=df['offspring'].apply(lambda x: html.unescape(str(x)))\n",
    "df['offspring']=df['offspring'].apply(lambda x: str(x).replace(\"'\", \"\"))\n",
    "\n",
    "def has_pets(str):\n",
    "    if 'has' in str:\n",
    "        return 1\n",
    "    else: \n",
    "        return 0\n",
    "\n",
    "def has_kids(str):\n",
    "    if 'has' in str:\n",
    "        return 1\n",
    "    else:\n",
    "        return 0\n",
    "\n",
    "def want_kids(str):\n",
    "    if 'doesn’t' in str:\n",
    "        return 0\n",
    "    elif 'might want' or 'wants' in str:\n",
    "        return 1\n",
    "    \n",
    "df['has_pets']=df['pets'].apply(lambda x: has_pets(str(x)))\n",
    "df['has_kids']=df['offspring'].apply(lambda x: has_kids(str(x)))\n",
    "df['want_kids']=df['offspring'].apply(lambda x: want_kids(x))\n",
    "\n",
    "print(df.has_pets.value_counts())\n",
    "print(df.has_kids.value_counts())\n",
    "print(df.want_kids.value_counts())"
   ]
  },
  {
   "cell_type": "markdown",
   "metadata": {},
   "source": [
    "## Usign Classification algorithms\n",
    "\n",
    "### Can we predict drugs consumption of population?\n",
    "\n",
    "Now we want to predict the drugs consumtion of population from other features our dataset. \n",
    "\n",
    "Since drugs consumption are a categorical field ( never, sometimes, often), we use some supervised classification algorithm. We realised that this feature is higly unbalanced ( never: 37724, sometimes: 7732, often: 410), so we use SMOTE algorithm technique that create little variate records for all categories that doesn't have enough samples in dataset.  "
   ]
  },
  {
   "cell_type": "markdown",
   "metadata": {},
   "source": [
    "#### Using Bayesian Algorithm"
   ]
  },
  {
   "cell_type": "code",
   "execution_count": 53,
   "metadata": {},
   "outputs": [
    {
     "name": "stdout",
     "output_type": "stream",
     "text": [
      "MultinomialNB score: 0.7587\n",
      "0.0    0.819626\n",
      "1.0    0.171314\n",
      "2.0    0.009060\n",
      "Name: drugs_code, dtype: float64\n",
      "0.0    0.819932\n",
      "2.0    0.117779\n",
      "1.0    0.062290\n",
      "Name: Bayesian, dtype: float64\n",
      "Duration MultinomialNB classification: 0:00:00.025982\n"
     ]
    }
   ],
   "source": [
    "from sklearn.model_selection import train_test_split\n",
    "from sklearn.preprocessing import MinMaxScaler\n",
    "from imblearn.over_sampling import SMOTE\n",
    "from sklearn.naive_bayes import MultinomialNB\n",
    "from sklearn import svm\n",
    "from datetime import datetime\n",
    "\n",
    "#selecting columns and dropping nans\n",
    "df_selected_X = df[['want_kids', 'drinks_code', 'drugs_code','smokes_code','has_pets', 'has_kids', 'sex_code']].astype(np.float64)\n",
    "df_selected_X.dropna(inplace=True, axis=0)\n",
    "\n",
    "#popping dependent variable\n",
    "df_selected_y = df_selected_X.pop('drugs_code').to_frame()\n",
    "\n",
    "#Normalitzating values\n",
    "scaler = MinMaxScaler()\n",
    "scaler.fit_transform(df_selected_X)\n",
    "\n",
    "#Splitting dataset in train and testing subsets\n",
    "X_train, X_test, y_train, y_test = train_test_split(df_selected_X, \n",
    "                                                    df_selected_y, test_size=0.20, random_state=100)\n",
    "\n",
    "#Appliying smote algorithm\n",
    "smt = SMOTE()\n",
    "X_train, y_train = smt.fit_sample(X_train, y_train.values.ravel())\n",
    "\n",
    "#Training Bayesian classificator\n",
    "start_time = datetime.now()\n",
    "clf = MultinomialNB()\n",
    "clf.fit(X_train,y_train)\n",
    "print('MultinomialNB score: {:5.4f}'.format(clf.score(X_test, y_test)))\n",
    "\n",
    "#Store predicted values\n",
    "df_selected_y['Bayesian']=clf.predict(df_selected_X)\n",
    "\n",
    "print(df_selected_y.drugs_code.value_counts(normalize=True))\n",
    "print(df_selected_y.Bayesian.value_counts(normalize=True))\n",
    "\n",
    "end_time = datetime.now()\n",
    "print('Duration MultinomialNB classification: {}'.format(end_time - start_time))"
   ]
  },
  {
   "cell_type": "code",
   "execution_count": 49,
   "metadata": {},
   "outputs": [
    {
     "name": "stdout",
     "output_type": "stream",
     "text": [
      "MultinomialNB f1_score : 0.756\n",
      "MultinomialNB precision_score : 0.756\n",
      "MultinomialNB recall_score : 0.756\n"
     ]
    }
   ],
   "source": [
    "from sklearn.metrics import f1_score, precision_score, recall_score\n",
    "print('MultinomialNB f1_score : {:4.3f}'.format(f1_score(df_selected_y['drugs_code'], df_selected_y['Bayesian'], average='micro'))) \n",
    "print('MultinomialNB precision_score : {:4.3f}'.format(precision_score(df_selected_y['drugs_code'], df_selected_y['Bayesian'], average='micro')))  \n",
    "print('MultinomialNB recall_score : {:4.3f}'.format(recall_score(df_selected_y['drugs_code'], df_selected_y['Bayesian'], average='micro'))) \n"
   ]
  },
  {
   "cell_type": "markdown",
   "metadata": {},
   "source": [
    "#### Using Support Vector Machine Algorithm"
   ]
  },
  {
   "cell_type": "code",
   "execution_count": 54,
   "metadata": {},
   "outputs": [
    {
     "name": "stdout",
     "output_type": "stream",
     "text": [
      "SVM score: 0.7561\n",
      "0.0    0.819626\n",
      "1.0    0.171314\n",
      "2.0    0.009060\n",
      "Name: drugs_code, dtype: float64\n",
      "0.0    0.760819\n",
      "1.0    0.165172\n",
      "2.0    0.074009\n",
      "Name: SVM, dtype: float64\n",
      "Duration SVM classification: 0:06:52.336756\n",
      "SVM f1_score : 0.755\n",
      "SVM precision_score : 0.755\n",
      "SVM recall_score : 0.755\n"
     ]
    }
   ],
   "source": [
    "#Training Support Vector Machine Classificator\n",
    "\n",
    "start_time = datetime.now()\n",
    "\n",
    "svm_clas= svm.SVC(kernel='rbf',gamma = 0.2,  C=5)\n",
    "svm_clas.fit(X_train,y_train)\n",
    "\n",
    "print('SVM score: {:5.4f}'.format(svm_clas.score(X_test, y_test)))\n",
    "\n",
    "#Store predicted values\n",
    "df_selected_y['SVM']=svm_clas.predict(df_selected_X)\n",
    "\n",
    "print(df_selected_y.drugs_code.value_counts(normalize=True))\n",
    "print(df_selected_y.SVM.value_counts(normalize=True))\n",
    "\n",
    "\n",
    "end_time = datetime.now()\n",
    "print('Duration SVM classification: {}'.format(end_time - start_time))\n",
    "\n",
    "print('SVM f1_score : {:4.3f}'.format(f1_score(df_selected_y['drugs_code'], df_selected_y['SVM'], average='micro'))) \n",
    "print('SVM precision_score : {:4.3f}'.format(precision_score(df_selected_y['drugs_code'], df_selected_y['SVM'], average='micro')))  \n",
    "print('SVM recall_score : {:4.3f}'.format(recall_score(df_selected_y['drugs_code'], df_selected_y['SVM'], average='micro'))) \n"
   ]
  },
  {
   "cell_type": "markdown",
   "metadata": {},
   "source": [
    "### Classification algortithms comparation\n",
    "\n",
    "With Bayesian or Suport Vector Machine Classificators, we obtain very similar scores, F1, accuracy and recall values. \n",
    "But the time used in the process is very larger in SVM classificator than in Bayesian Classificator ( almost 7 minutes vs 0.02 seconds, in my computer)\n",
    "\n"
   ]
  },
  {
   "cell_type": "markdown",
   "metadata": {},
   "source": [
    "## Using regression algorithms\n",
    "\n",
    "If we want to use some regression algorithms in this dataset, we must search some variable that not are categorical, that have a continous behaivour. No are so many in this dataset. \n",
    "We choose 'age' feature, and we will try to determine it using a linear model regressor algorithm, and a k-neigbours regressor technique"
   ]
  },
  {
   "cell_type": "code",
   "execution_count": 68,
   "metadata": {},
   "outputs": [
    {
     "name": "stdout",
     "output_type": "stream",
     "text": [
      "linear Model score: 0.22954476564204174\n",
      "Duration Linear Regression: 0:00:00.016492\n",
      "KNeighborsRegressor score: 0.20774893604830247\n",
      "Duration KNeighbors Regressor 0:00:07.579578\n"
     ]
    }
   ],
   "source": [
    "from sklearn import linear_model\n",
    "from sklearn.neighbors import KNeighborsRegressor\n",
    "\n",
    "#selecting columns and dropping nans\n",
    "df_selected_X = df[['want_kids', 'drinks_code', 'drugs_code','smokes_code','has_pets', 'has_kids', 'sex_code', 'age']].astype(np.float64)\n",
    "df_selected_X.dropna(inplace=True, axis=0)\n",
    "\n",
    "#popping dependent variable\n",
    "df_selected_y = df_selected_X.pop('age').to_frame()\n",
    "\n",
    "#Normalitzating values\n",
    "scaler = MinMaxScaler()\n",
    "scaler.fit_transform(df_selected_X)\n",
    "\n",
    "#Splitting dataset in train and testing subsets\n",
    "X_train, X_test, y_train, y_test = train_test_split(df_selected_X, \n",
    "                                                    df_selected_y, test_size=0.20, random_state=100)\n",
    "\n",
    "#Training Linear Model Regressor\n",
    "start_time = datetime.now()\n",
    "lm = linear_model.LinearRegression()\n",
    "model = lm.fit(X_train,y_train)\n",
    "print('linear Model score: {}'.format(lm.score(X_test, y_test)))\n",
    "\n",
    "#Store predicted values\n",
    "df_selected_y['LinRegre']=lm.predict(df_selected_X)\n",
    "end_time = datetime.now()\n",
    "print('Duration Linear Regression: {}'.format(end_time - start_time))\n",
    "\n",
    "#Training KNeighbors Regressor\n",
    "start_time = datetime.now()\n",
    "regressor = KNeighborsRegressor(n_neighbors = 24, weights = \"distance\")\n",
    "regressor.fit(X_train,y_train)\n",
    "print('KNeighborsRegressor score: {}'.format(regressor.score(X_test, y_test)))\n",
    "\n",
    "#Store predicted values\n",
    "df_selected_y['KRegre']=regressor.predict(df_selected_X)\n",
    "end_time = datetime.now()\n",
    "print('Duration KNeighbors Regressor {}'.format(end_time - start_time))"
   ]
  },
  {
   "cell_type": "code",
   "execution_count": 69,
   "metadata": {},
   "outputs": [
    {
     "data": {
      "image/png": "[encoded data removed]",
      "text/plain": [
       "<matplotlib.figure.Figure at 0x7ff2c22b1978>"
      ]
     },
     "metadata": {},
     "output_type": "display_data"
    }
   ],
   "source": [
    "kscore=[]\n",
    "for k in range(1,25):\n",
    "    regressor = KNeighborsRegressor(n_neighbors = k, weights = \"distance\")\n",
    "    regressor.fit(X_train,y_train)\n",
    "    kscore.append([k,regressor.score(X_test, y_test)])\n",
    "\n",
    "arr=np.array(kscore)\n",
    "plt.plot(arr[:,0], arr[:,1])\n",
    "plt.xlabel(\"k neighbors\")\n",
    "plt.ylabel(\"Score\")\n",
    "plt.show()\n"
   ]
  },
  {
   "cell_type": "markdown",
   "metadata": {},
   "source": [
    "As we can see, that algorithms not are good enough to determine the age of people in this dataset. Only achieve 20% score. Linear Model algorithm is 7 times faster, but 7 seconds processing for k-neigbors alg  ( in my computer) is not a big problem to handle"
   ]
  },
  {
   "cell_type": "markdown",
   "metadata": {},
   "source": [
    "## Conclusions\n",
    "\n",
    "We are happy to use efficiently clasification algorithms to determine drugs use frequency for people of our dataset, but we realize that is tricky obtain really good results in data science. We can see trends of data, and certainly, we can analize very good all relations that not are real. It's so easy obtain poor results for classification and regression algorithms. Can be disapointing!\n",
    "\n",
    "We supose that if we have 10 times more data than we workin this exercice, we can achieve better results.  "
   ]
  }
 ],
 "metadata": {
  "kernelspec": {
   "display_name": "Python 3",
   "language": "python",
   "name": "python3"
  },
  "language_info": {
   "codemirror_mode": {
    "name": "ipython",
    "version": 3
   },
   "file_extension": ".py",
   "mimetype": "text/x-python",
   "name": "python",
   "nbconvert_exporter": "python",
   "pygments_lexer": "ipython3",
   "version": "3.5.2"
  }
 },
 "nbformat": 4,
 "nbformat_minor": 2
}
